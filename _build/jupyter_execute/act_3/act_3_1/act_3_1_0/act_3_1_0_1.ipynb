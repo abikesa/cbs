{
 "cells": [
  {
   "cell_type": "markdown",
   "metadata": {},
   "source": [
    "# \n",
    "\n",
    "# 21\n",
    "\n",
    "1. intra-class correlation coefficient meets [intra-rater reliability](https://arxiv.org/pdf/1711.05225.pdf%202017.pdf) which meets deep learning\n",
    "2. Curtis Langlotz is at Hopkins Business of Health Initiative (HBHI) Webinar for his work on AI in Radiology\n",
    "3. this also marks the final posting on my icc/cbs repo, which has come full circle in less than a week and in only 21 commits!!\n",
    "\n"
   ]
  }
 ],
 "metadata": {
  "kernelspec": {
   "display_name": "Python 3",
   "language": "python",
   "name": "python3"
  },
  "language_info": {
   "codemirror_mode": {
    "name": "ipython",
    "version": 3
   },
   "file_extension": ".py",
   "mimetype": "text/x-python",
   "name": "python",
   "nbconvert_exporter": "python",
   "pygments_lexer": "ipython3",
   "version": "3.11.2"
  }
 },
 "nbformat": 4,
 "nbformat_minor": 2
}