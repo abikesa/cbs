{
 "cells": [
  {
   "cell_type": "markdown",
   "metadata": {},
   "source": [
    "# \n",
    "\n",
    "# 2\n",
    "\n",
    "Substances used by the protagonist, Jordan Belfort, in \"The Wolf of Wall Street\" for various reasons, each serving a specific purpose according to the character's perspective:\n",
    "\n",
    "<Details>\n",
    "   <Summary>Verbatim</Summary>\n",
    "\n",
    "> *I take Quaaludes 10-15 times a day for my ‘back pain’, Adderall to stay focused, Xanax to take the edge off, pot to mellow me out, cocaine to wake me back up again, and morphine... Well, because it's awesome.* - Jordan Belfort (Leonardo DiCaprio), The Wolf of Wall Street (2013)\n",
    "\n",
    "Why does this make sense to me at 43? I may have rolled my eyes at 33 when I heard Belfort describe his habits, but appear to have shifted from one group (30-somethings) to another group (40-somethings) and have shrunk towards their overall average behavior to make it immediately comprehensible: \n",
    "</Details>\n",
    "\n",
    "<Details>\n",
    "   <Summary>I relate!</Summary>\n",
    "These last two years have seen me push myself to extremes with espresso (adenosine blocker), Belgian beer (GABA receptors agonist) to take the edge off. I had back pain sporadically in my 30s but near permanent from 41-43 from my 9 mile runs and 2 mile swims with slips.  \n",
    "\n",
    "</Details>\n",
    "\n",
    "---\n",
    "\n",
    "### <span style=\"font-weight:bold; color:red;\">Red Zone (Stress/Adrenaline/Cortisol)</span>\n",
    "\n",
    "1. **Cocaine**: Blocks the reuptake of neurotransmitters like dopamine, norepinephrine, and serotonin. Used for increased energy and wakefulness.\n",
    "\n",
    "### <span style=\"font-weight:bold; color:#DAA000;\">Yellow Zone (Flow/Dopamine/NMDA)</span>\n",
    "\n",
    "1. **Adderall (Dextroamphetamine)**: Primarily increases the release of norepinephrine and dopamine. This stimulant is often prescribed for ADHD and used for focus.\n",
    "\n",
    "### <span style=\"font-weight:bold; color:green;\">Green Zone (Chill/GABA/Adenosine)</span>\n",
    "\n",
    "1. **Quaaludes (Methaqualone)**: Interacts primarily with the GABA receptor. Used purportedly for back pain but mostly for recreational purposes.\n",
    "\n",
    "2. **Xanax (Alprazolam)**: Acts on GABA receptors. A benzodiazepine used for anxiety relief and relaxation.\n",
    "\n",
    "3. **Pot (Marijuana)**: Acts on cannabinoid receptors, which can modulate neurotransmitters like dopamine and GABA but generally has a mellowing effect.\n",
    "\n",
    "4. **Morphine**: Targets opioid receptors, resulting usually in pain relief and sedation.\n",
    "\n",
    "\n"
   ]
  }
 ],
 "metadata": {
  "kernelspec": {
   "display_name": "Python 3",
   "language": "python",
   "name": "python3"
  },
  "language_info": {
   "codemirror_mode": {
    "name": "ipython",
    "version": 3
   },
   "file_extension": ".py",
   "mimetype": "text/x-python",
   "name": "python",
   "nbconvert_exporter": "python",
   "pygments_lexer": "ipython3",
   "version": "3.11.2"
  },
  "orig_nbformat": 4
 },
 "nbformat": 4,
 "nbformat_minor": 2
}
