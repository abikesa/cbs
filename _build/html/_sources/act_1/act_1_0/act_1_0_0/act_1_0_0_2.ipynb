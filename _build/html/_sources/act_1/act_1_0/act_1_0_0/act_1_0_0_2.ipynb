{
 "cells": [
  {
   "cell_type": "markdown",
   "metadata": {},
   "source": [
    "# \n",
    "\n",
    "# 2\n",
    "\n",
    "Substances used by the protagonist, Jordan Belfort, in \"The Wolf of Wall Street\" for various reasons, each serving a specific purpose according to the character's perspective:\n",
    "\n",
    "1. **Quaaludes (Methaqualone)** - Used by Belfort purportedly for back pain, but mostly for recreational purposes.\n",
    "2. <span style=\"font-weight:bold; color:#DAA000;\">Adderall (Dextroamphetamine)</span> - A stimulant medication often prescribed for ADHD, used by Belfort to help him focus.\n",
    "3. <span style=\"font-weight:bold; color:green\">Xanax (Alprazolam)</span> - A benzodiazepine used for anxiety relief, used to take the edge off.\n",
    "4. **Pot (Marijuana)** - Used to mellow him out.\n",
    "5. <span style=\"font-weight:bold; color:red;\">Cocaine</span> - Used for increased energy and to wake him up.\n",
    "6. **Morphine** - An opioid analgesic used for pain relief, but taken recreationally in the movie because \"it's awesome\" according to Belfort.\n",
    "\n",
    "Why does this make sense to me at 43? I may have rolled my eyes at 33 when I heard Belfort describe his habits, but appear to have shifted from one group (30-somethings) to another group (40-somethings) and have shrunk towards their overall average behavior to make it immediately comprehensible: \n",
    "\n",
    "<Details>\n",
    "   <Summary>I relate!</Summary>\n",
    "These last two years have seen me push myself to extremes with espresso, often needed a Belgian beer (acts on GABA receptors like Xanax) to take the edge off. I had back pain sporadically in my 30s but near permanent from 41-43 from my 9 mile runs and 2 mile swims with slips.  \n",
    "\n",
    "</Details>\n",
    "\n"
   ]
  }
 ],
 "metadata": {
  "kernelspec": {
   "display_name": "Python 3",
   "language": "python",
   "name": "python3"
  },
  "language_info": {
   "codemirror_mode": {
    "name": "ipython",
    "version": 3
   },
   "file_extension": ".py",
   "mimetype": "text/x-python",
   "name": "python",
   "nbconvert_exporter": "python",
   "pygments_lexer": "ipython3",
   "version": "3.11.2"
  },
  "orig_nbformat": 4
 },
 "nbformat": 4,
 "nbformat_minor": 2
}
