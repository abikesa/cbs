{
 "cells": [
  {
   "cell_type": "markdown",
   "metadata": {},
   "source": [
    "# \n",
    "\n",
    "# [19](https://proceedings.neurips.cc/paper_files/paper/2017/file/3f5ee243547dee91fbd053c1c4a845aa-Paper.pdf)\n",
    "\n",
    "<span style=\"font-size:23px;font-weight:bold\">Attention Is All You Need</span>\n",
    "---\n",
    "\n",
    "Ashish Vaswani∗    \n",
    "Google Brain       \n",
    "avaswani@google.com    \n",
    " \n",
    "Llion Jones∗    \n",
    "Google Research   \n",
    "llion@google.com   \n",
    "\n",
    "Noam Shazeer∗    \n",
    "Google Brain   \n",
    "noam@google.com   \n",
    "\n",
    "Niki Parmar∗    \n",
    "Google Research   \n",
    "nikip@google.com   \n",
    "\n",
    "Jakob Uszkoreit∗   \n",
    "Google Research   \n",
    "usz@google.com   \n",
    "\n",
    "Aidan N. Gomez∗    \n",
    "† University of Toronto    \n",
    "aidan@cs.toronto.edu   \n",
    "\n",
    "Łukasz Kaiser∗   \n",
    "Google Brain   \n",
    "lukaszkaiser@google.com    \n",
    "\n",
    "Illia Polosukhin∗   \n",
    "‡ illia.polosukhin@gmail.com   \n",
    "\n",
    "<span style=\"font-weight:bold;font-size:19px;\">Abstract</span><br>\n",
    "The dominant sequence transduction models are based on complex recurrent or convolutional neural networks that include an encoder and a decoder. The best performing models also connect the encoder and decoder through an attention mechanism. We propose a new simple network architecture, the Transformer, based solely on attention mechanisms, dispensing with recurrence and convolutions entirely. Experiments on two machine translation tasks show these models to be superior in quality while being more parallelizable and requiring significantly less time to train. Our model achieves 28.4 BLEU on the WMT 2014 English- to-German translation task, improving over the existing best results, including ensembles, by over 2 BLEU. On the WMT 2014 English-to-French translation task, our model establishes a new single-model state-of-the-art BLEU score of 41.0 after training for 3.5 days on eight GPUs, a small fraction of the training costs of the best models from the literature."
   ]
  }
 ],
 "metadata": {
  "kernelspec": {
   "display_name": "Python 3",
   "language": "python",
   "name": "python3"
  },
  "language_info": {
   "codemirror_mode": {
    "name": "ipython",
    "version": 3
   },
   "file_extension": ".py",
   "mimetype": "text/x-python",
   "name": "python",
   "nbconvert_exporter": "python",
   "pygments_lexer": "ipython3",
   "version": "3.11.2"
  },
  "orig_nbformat": 4
 },
 "nbformat": 4,
 "nbformat_minor": 2
}
